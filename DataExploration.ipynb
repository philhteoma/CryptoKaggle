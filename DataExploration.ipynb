{
 "cells": [
  {
   "cell_type": "code",
   "execution_count": 7,
   "id": "0044861a",
   "metadata": {},
   "outputs": [],
   "source": [
    "import pandas as pd"
   ]
  },
  {
   "cell_type": "code",
   "execution_count": 8,
   "id": "e76fd48a",
   "metadata": {},
   "outputs": [],
   "source": [
    "pd.set_option('display.float_format', lambda x: '%.7f' % x)"
   ]
  },
  {
   "cell_type": "code",
   "execution_count": 9,
   "id": "f880fa64",
   "metadata": {},
   "outputs": [],
   "source": [
    "assetDetails = pd.read_csv(\"g-research-crypto-forecasting/asset_details.csv\")"
   ]
  },
  {
   "cell_type": "code",
   "execution_count": 18,
   "id": "554b6810",
   "metadata": {},
   "outputs": [
    {
     "data": {
      "text/html": [
       "<div>\n",
       "<style scoped>\n",
       "    .dataframe tbody tr th:only-of-type {\n",
       "        vertical-align: middle;\n",
       "    }\n",
       "\n",
       "    .dataframe tbody tr th {\n",
       "        vertical-align: top;\n",
       "    }\n",
       "\n",
       "    .dataframe thead th {\n",
       "        text-align: right;\n",
       "    }\n",
       "</style>\n",
       "<table border=\"1\" class=\"dataframe\">\n",
       "  <thead>\n",
       "    <tr style=\"text-align: right;\">\n",
       "      <th></th>\n",
       "      <th>Asset_ID</th>\n",
       "      <th>Weight</th>\n",
       "      <th>Asset_Name</th>\n",
       "    </tr>\n",
       "  </thead>\n",
       "  <tbody>\n",
       "    <tr>\n",
       "      <th>0</th>\n",
       "      <td>2</td>\n",
       "      <td>2.397895</td>\n",
       "      <td>Bitcoin Cash</td>\n",
       "    </tr>\n",
       "    <tr>\n",
       "      <th>1</th>\n",
       "      <td>0</td>\n",
       "      <td>4.304065</td>\n",
       "      <td>Binance Coin</td>\n",
       "    </tr>\n",
       "    <tr>\n",
       "      <th>2</th>\n",
       "      <td>1</td>\n",
       "      <td>6.779922</td>\n",
       "      <td>Bitcoin</td>\n",
       "    </tr>\n",
       "    <tr>\n",
       "      <th>3</th>\n",
       "      <td>5</td>\n",
       "      <td>1.386294</td>\n",
       "      <td>EOS.IO</td>\n",
       "    </tr>\n",
       "    <tr>\n",
       "      <th>4</th>\n",
       "      <td>7</td>\n",
       "      <td>2.079442</td>\n",
       "      <td>Ethereum Classic</td>\n",
       "    </tr>\n",
       "  </tbody>\n",
       "</table>\n",
       "</div>"
      ],
      "text/plain": [
       "   Asset_ID    Weight        Asset_Name\n",
       "0         2  2.397895      Bitcoin Cash\n",
       "1         0  4.304065      Binance Coin\n",
       "2         1  6.779922           Bitcoin\n",
       "3         5  1.386294            EOS.IO\n",
       "4         7  2.079442  Ethereum Classic"
      ]
     },
     "execution_count": 18,
     "metadata": {},
     "output_type": "execute_result"
    }
   ],
   "source": [
    "assetDetails.head()"
   ]
  },
  {
   "cell_type": "code",
   "execution_count": 10,
   "id": "a0210607",
   "metadata": {},
   "outputs": [],
   "source": [
    "train = pd.read_csv(\"g-research-crypto-forecasting/train.csv\")"
   ]
  },
  {
   "cell_type": "code",
   "execution_count": 10,
   "id": "dfa344a8",
   "metadata": {},
   "outputs": [
    {
     "data": {
      "text/html": [
       "<div>\n",
       "<style scoped>\n",
       "    .dataframe tbody tr th:only-of-type {\n",
       "        vertical-align: middle;\n",
       "    }\n",
       "\n",
       "    .dataframe tbody tr th {\n",
       "        vertical-align: top;\n",
       "    }\n",
       "\n",
       "    .dataframe thead th {\n",
       "        text-align: right;\n",
       "    }\n",
       "</style>\n",
       "<table border=\"1\" class=\"dataframe\">\n",
       "  <thead>\n",
       "    <tr style=\"text-align: right;\">\n",
       "      <th></th>\n",
       "      <th>timestamp</th>\n",
       "      <th>Asset_ID</th>\n",
       "      <th>Count</th>\n",
       "      <th>Open</th>\n",
       "      <th>High</th>\n",
       "      <th>Low</th>\n",
       "      <th>Close</th>\n",
       "      <th>Volume</th>\n",
       "      <th>VWAP</th>\n",
       "      <th>Target</th>\n",
       "    </tr>\n",
       "  </thead>\n",
       "  <tbody>\n",
       "    <tr>\n",
       "      <th>0</th>\n",
       "      <td>1514764860</td>\n",
       "      <td>2</td>\n",
       "      <td>40.0</td>\n",
       "      <td>2376.5800</td>\n",
       "      <td>2399.5000</td>\n",
       "      <td>2357.1400</td>\n",
       "      <td>2374.5900</td>\n",
       "      <td>19.233005</td>\n",
       "      <td>2373.116392</td>\n",
       "      <td>-0.004218</td>\n",
       "    </tr>\n",
       "    <tr>\n",
       "      <th>1</th>\n",
       "      <td>1514764860</td>\n",
       "      <td>0</td>\n",
       "      <td>5.0</td>\n",
       "      <td>8.5300</td>\n",
       "      <td>8.5300</td>\n",
       "      <td>8.5300</td>\n",
       "      <td>8.5300</td>\n",
       "      <td>78.380000</td>\n",
       "      <td>8.530000</td>\n",
       "      <td>-0.014399</td>\n",
       "    </tr>\n",
       "    <tr>\n",
       "      <th>2</th>\n",
       "      <td>1514764860</td>\n",
       "      <td>1</td>\n",
       "      <td>229.0</td>\n",
       "      <td>13835.1940</td>\n",
       "      <td>14013.8000</td>\n",
       "      <td>13666.1100</td>\n",
       "      <td>13850.1760</td>\n",
       "      <td>31.550062</td>\n",
       "      <td>13827.062093</td>\n",
       "      <td>-0.014643</td>\n",
       "    </tr>\n",
       "    <tr>\n",
       "      <th>3</th>\n",
       "      <td>1514764860</td>\n",
       "      <td>5</td>\n",
       "      <td>32.0</td>\n",
       "      <td>7.6596</td>\n",
       "      <td>7.6596</td>\n",
       "      <td>7.6567</td>\n",
       "      <td>7.6576</td>\n",
       "      <td>6626.713370</td>\n",
       "      <td>7.657713</td>\n",
       "      <td>-0.013922</td>\n",
       "    </tr>\n",
       "    <tr>\n",
       "      <th>4</th>\n",
       "      <td>1514764860</td>\n",
       "      <td>7</td>\n",
       "      <td>5.0</td>\n",
       "      <td>25.9200</td>\n",
       "      <td>25.9200</td>\n",
       "      <td>25.8740</td>\n",
       "      <td>25.8770</td>\n",
       "      <td>121.087310</td>\n",
       "      <td>25.891363</td>\n",
       "      <td>-0.008264</td>\n",
       "    </tr>\n",
       "  </tbody>\n",
       "</table>\n",
       "</div>"
      ],
      "text/plain": [
       "    timestamp  Asset_ID  Count        Open        High         Low  \\\n",
       "0  1514764860         2   40.0   2376.5800   2399.5000   2357.1400   \n",
       "1  1514764860         0    5.0      8.5300      8.5300      8.5300   \n",
       "2  1514764860         1  229.0  13835.1940  14013.8000  13666.1100   \n",
       "3  1514764860         5   32.0      7.6596      7.6596      7.6567   \n",
       "4  1514764860         7    5.0     25.9200     25.9200     25.8740   \n",
       "\n",
       "        Close       Volume          VWAP    Target  \n",
       "0   2374.5900    19.233005   2373.116392 -0.004218  \n",
       "1      8.5300    78.380000      8.530000 -0.014399  \n",
       "2  13850.1760    31.550062  13827.062093 -0.014643  \n",
       "3      7.6576  6626.713370      7.657713 -0.013922  \n",
       "4     25.8770   121.087310     25.891363 -0.008264  "
      ]
     },
     "execution_count": 10,
     "metadata": {},
     "output_type": "execute_result"
    }
   ],
   "source": [
    "train.head()"
   ]
  },
  {
   "cell_type": "code",
   "execution_count": 60,
   "id": "a1e6571d",
   "metadata": {},
   "outputs": [],
   "source": [
    "train[\"change\"] = train[\"Open\"] - train[\"Close\"]\n",
    "\n",
    "trainMeans = train.groupby(\"Asset_ID\", as_index=False) \\\n",
    "                  .mean()[[\"Asset_ID\", \"Count\", \"change\"]]"
   ]
  },
  {
   "cell_type": "code",
   "execution_count": 62,
   "id": "0513c706",
   "metadata": {},
   "outputs": [],
   "source": [
    "trainMeans2 = trainMeans.merge(assetDetails,on=\"Asset_ID\")"
   ]
  },
  {
   "cell_type": "code",
   "execution_count": 69,
   "id": "99e5210a",
   "metadata": {},
   "outputs": [
    {
     "data": {
      "text/html": [
       "<div>\n",
       "<style scoped>\n",
       "    .dataframe tbody tr th:only-of-type {\n",
       "        vertical-align: middle;\n",
       "    }\n",
       "\n",
       "    .dataframe tbody tr th {\n",
       "        vertical-align: top;\n",
       "    }\n",
       "\n",
       "    .dataframe thead th {\n",
       "        text-align: right;\n",
       "    }\n",
       "</style>\n",
       "<table border=\"1\" class=\"dataframe\">\n",
       "  <thead>\n",
       "    <tr style=\"text-align: right;\">\n",
       "      <th></th>\n",
       "      <th>Asset_ID</th>\n",
       "      <th>Count</th>\n",
       "      <th>change</th>\n",
       "      <th>Weight</th>\n",
       "      <th>Asset_Name</th>\n",
       "    </tr>\n",
       "  </thead>\n",
       "  <tbody>\n",
       "    <tr>\n",
       "      <th>0</th>\n",
       "      <td>0</td>\n",
       "      <td>186.4472019</td>\n",
       "      <td>0.0001079</td>\n",
       "      <td>4.3040651</td>\n",
       "      <td>Binance Coin</td>\n",
       "    </tr>\n",
       "    <tr>\n",
       "      <th>1</th>\n",
       "      <td>1</td>\n",
       "      <td>1082.3901212</td>\n",
       "      <td>-0.0003495</td>\n",
       "      <td>6.7799219</td>\n",
       "      <td>Bitcoin</td>\n",
       "    </tr>\n",
       "    <tr>\n",
       "      <th>2</th>\n",
       "      <td>2</td>\n",
       "      <td>153.5601353</td>\n",
       "      <td>0.0040191</td>\n",
       "      <td>2.3978953</td>\n",
       "      <td>Bitcoin Cash</td>\n",
       "    </tr>\n",
       "    <tr>\n",
       "      <th>3</th>\n",
       "      <td>3</td>\n",
       "      <td>239.3498597</td>\n",
       "      <td>-0.0000001</td>\n",
       "      <td>4.4067192</td>\n",
       "      <td>Cardano</td>\n",
       "    </tr>\n",
       "    <tr>\n",
       "      <th>4</th>\n",
       "      <td>4</td>\n",
       "      <td>474.8136586</td>\n",
       "      <td>0.0000001</td>\n",
       "      <td>3.5553481</td>\n",
       "      <td>Dogecoin</td>\n",
       "    </tr>\n",
       "    <tr>\n",
       "      <th>5</th>\n",
       "      <td>5</td>\n",
       "      <td>245.5706543</td>\n",
       "      <td>0.0000115</td>\n",
       "      <td>1.3862944</td>\n",
       "      <td>EOS.IO</td>\n",
       "    </tr>\n",
       "    <tr>\n",
       "      <th>6</th>\n",
       "      <td>6</td>\n",
       "      <td>689.1085549</td>\n",
       "      <td>-0.0010080</td>\n",
       "      <td>5.8944028</td>\n",
       "      <td>Ethereum</td>\n",
       "    </tr>\n",
       "    <tr>\n",
       "      <th>7</th>\n",
       "      <td>7</td>\n",
       "      <td>129.5688635</td>\n",
       "      <td>-0.0000347</td>\n",
       "      <td>2.0794415</td>\n",
       "      <td>Ethereum Classic</td>\n",
       "    </tr>\n",
       "    <tr>\n",
       "      <th>8</th>\n",
       "      <td>8</td>\n",
       "      <td>33.4852328</td>\n",
       "      <td>0.0000015</td>\n",
       "      <td>1.0986123</td>\n",
       "      <td>IOTA</td>\n",
       "    </tr>\n",
       "    <tr>\n",
       "      <th>9</th>\n",
       "      <td>9</td>\n",
       "      <td>225.6684310</td>\n",
       "      <td>0.0000249</td>\n",
       "      <td>2.3978953</td>\n",
       "      <td>Litecoin</td>\n",
       "    </tr>\n",
       "    <tr>\n",
       "      <th>10</th>\n",
       "      <td>10</td>\n",
       "      <td>49.9410900</td>\n",
       "      <td>0.0100903</td>\n",
       "      <td>1.0986123</td>\n",
       "      <td>Maker</td>\n",
       "    </tr>\n",
       "    <tr>\n",
       "      <th>11</th>\n",
       "      <td>11</td>\n",
       "      <td>34.8030202</td>\n",
       "      <td>0.0001682</td>\n",
       "      <td>1.6094379</td>\n",
       "      <td>Monero</td>\n",
       "    </tr>\n",
       "    <tr>\n",
       "      <th>12</th>\n",
       "      <td>12</td>\n",
       "      <td>119.0428571</td>\n",
       "      <td>-0.0000010</td>\n",
       "      <td>2.0794415</td>\n",
       "      <td>Stellar</td>\n",
       "    </tr>\n",
       "    <tr>\n",
       "      <th>13</th>\n",
       "      <td>13</td>\n",
       "      <td>162.6556979</td>\n",
       "      <td>0.0000002</td>\n",
       "      <td>1.7917595</td>\n",
       "      <td>TRON</td>\n",
       "    </tr>\n",
       "  </tbody>\n",
       "</table>\n",
       "</div>"
      ],
      "text/plain": [
       "    Asset_ID        Count     change    Weight        Asset_Name\n",
       "0          0  186.4472019  0.0001079 4.3040651      Binance Coin\n",
       "1          1 1082.3901212 -0.0003495 6.7799219           Bitcoin\n",
       "2          2  153.5601353  0.0040191 2.3978953      Bitcoin Cash\n",
       "3          3  239.3498597 -0.0000001 4.4067192           Cardano\n",
       "4          4  474.8136586  0.0000001 3.5553481          Dogecoin\n",
       "5          5  245.5706543  0.0000115 1.3862944            EOS.IO\n",
       "6          6  689.1085549 -0.0010080 5.8944028          Ethereum\n",
       "7          7  129.5688635 -0.0000347 2.0794415  Ethereum Classic\n",
       "8          8   33.4852328  0.0000015 1.0986123              IOTA\n",
       "9          9  225.6684310  0.0000249 2.3978953          Litecoin\n",
       "10        10   49.9410900  0.0100903 1.0986123             Maker\n",
       "11        11   34.8030202  0.0001682 1.6094379            Monero\n",
       "12        12  119.0428571 -0.0000010 2.0794415           Stellar\n",
       "13        13  162.6556979  0.0000002 1.7917595              TRON"
      ]
     },
     "execution_count": 69,
     "metadata": {},
     "output_type": "execute_result"
    }
   ],
   "source": [
    "trainMeans2"
   ]
  },
  {
   "cell_type": "code",
   "execution_count": null,
   "id": "da8a164d",
   "metadata": {},
   "outputs": [],
   "source": [
    "# train[train[\"Asset_ID\"] == 1] \\\n",
    "#      .plot(x=\"timestamp\", y=\"open\")"
   ]
  },
  {
   "cell_type": "code",
   "execution_count": 11,
   "id": "faa657a3",
   "metadata": {},
   "outputs": [],
   "source": [
    "train_subset = train[train[\"Asset_ID\"] == 1] \\\n",
    "                    .sort_values(\"timestamp\").head(10000)"
   ]
  },
  {
   "cell_type": "code",
   "execution_count": 13,
   "id": "9bf69a13",
   "metadata": {},
   "outputs": [
    {
     "data": {
      "text/plain": [
       "<AxesSubplot:xlabel='timestamp'>"
      ]
     },
     "execution_count": 13,
     "metadata": {},
     "output_type": "execute_result"
    },
    {
     "data": {
      "image/png": "[encoded data removed]",
      "text/plain": [
       "<Figure size 432x288 with 1 Axes>"
      ]
     },
     "metadata": {
      "needs_background": "light"
     },
     "output_type": "display_data"
    }
   ],
   "source": [
    "train_subset.plot(x=\"timestamp\", y=\"Open\")"
   ]
  },
  {
   "cell_type": "code",
   "execution_count": 15,
   "id": "d6554092",
   "metadata": {},
   "outputs": [],
   "source": [
    "bitcoin = train[train[\"Asset_ID\"] == 1]"
   ]
  },
  {
   "cell_type": "code",
   "execution_count": 16,
   "id": "85b827bc",
   "metadata": {},
   "outputs": [
    {
     "data": {
      "text/plain": [
       "<AxesSubplot:xlabel='timestamp'>"
      ]
     },
     "execution_count": 16,
     "metadata": {},
     "output_type": "execute_result"
    },
    {
     "data": {
      "image/png": "[encoded data removed]",
      "text/plain": [
       "<Figure size 432x288 with 1 Axes>"
      ]
     },
     "metadata": {
      "needs_background": "light"
     },
     "output_type": "display_data"
    }
   ],
   "source": [
    "bitcoin.plot(x=\"timestamp\", y=\"Open\")"
   ]
  },
  {
   "cell_type": "code",
   "execution_count": 24,
   "id": "44d6cb5e",
   "metadata": {},
   "outputs": [
    {
     "name": "stderr",
     "output_type": "stream",
     "text": [
      "C:\\Users\\ray\\AppData\\Local\\Temp/ipykernel_11932/229034971.py:1: SettingWithCopyWarning: \n",
      "A value is trying to be set on a copy of a slice from a DataFrame.\n",
      "Try using .loc[row_indexer,col_indexer] = value instead\n",
      "\n",
      "See the caveats in the documentation: https://pandas.pydata.org/pandas-docs/stable/user_guide/indexing.html#returning-a-view-versus-a-copy\n",
      "  bitcoin[\"changePer\"] = (bitcoin[\"Close\"] / bitcoin[\"Open\"] - 1) * 100\n"
     ]
    },
    {
     "data": {
      "text/html": [
       "<div>\n",
       "<style scoped>\n",
       "    .dataframe tbody tr th:only-of-type {\n",
       "        vertical-align: middle;\n",
       "    }\n",
       "\n",
       "    .dataframe tbody tr th {\n",
       "        vertical-align: top;\n",
       "    }\n",
       "\n",
       "    .dataframe thead th {\n",
       "        text-align: right;\n",
       "    }\n",
       "</style>\n",
       "<table border=\"1\" class=\"dataframe\">\n",
       "  <thead>\n",
       "    <tr style=\"text-align: right;\">\n",
       "      <th></th>\n",
       "      <th>timestamp</th>\n",
       "      <th>Open</th>\n",
       "      <th>Close</th>\n",
       "      <th>changePer</th>\n",
       "    </tr>\n",
       "  </thead>\n",
       "  <tbody>\n",
       "    <tr>\n",
       "      <th>2</th>\n",
       "      <td>1514764860</td>\n",
       "      <td>13835.1940000</td>\n",
       "      <td>13850.1760000</td>\n",
       "      <td>0.1082890</td>\n",
       "    </tr>\n",
       "    <tr>\n",
       "      <th>10</th>\n",
       "      <td>1514764920</td>\n",
       "      <td>13835.0360000</td>\n",
       "      <td>13828.1020000</td>\n",
       "      <td>-0.0501191</td>\n",
       "    </tr>\n",
       "    <tr>\n",
       "      <th>18</th>\n",
       "      <td>1514764980</td>\n",
       "      <td>13823.9000000</td>\n",
       "      <td>13801.3140000</td>\n",
       "      <td>-0.1633837</td>\n",
       "    </tr>\n",
       "    <tr>\n",
       "      <th>26</th>\n",
       "      <td>1514765040</td>\n",
       "      <td>13802.5120000</td>\n",
       "      <td>13768.0400000</td>\n",
       "      <td>-0.2497516</td>\n",
       "    </tr>\n",
       "    <tr>\n",
       "      <th>34</th>\n",
       "      <td>1514765100</td>\n",
       "      <td>13766.0000000</td>\n",
       "      <td>13724.9140000</td>\n",
       "      <td>-0.2984600</td>\n",
       "    </tr>\n",
       "    <tr>\n",
       "      <th>...</th>\n",
       "      <td>...</td>\n",
       "      <td>...</td>\n",
       "      <td>...</td>\n",
       "      <td>...</td>\n",
       "    </tr>\n",
       "    <tr>\n",
       "      <th>734</th>\n",
       "      <td>1514770560</td>\n",
       "      <td>13578.4520000</td>\n",
       "      <td>13583.1020000</td>\n",
       "      <td>0.0342454</td>\n",
       "    </tr>\n",
       "    <tr>\n",
       "      <th>742</th>\n",
       "      <td>1514770620</td>\n",
       "      <td>13575.4300000</td>\n",
       "      <td>13573.4940000</td>\n",
       "      <td>-0.0142611</td>\n",
       "    </tr>\n",
       "    <tr>\n",
       "      <th>750</th>\n",
       "      <td>1514770680</td>\n",
       "      <td>13570.3900000</td>\n",
       "      <td>13576.7240000</td>\n",
       "      <td>0.0466752</td>\n",
       "    </tr>\n",
       "    <tr>\n",
       "      <th>758</th>\n",
       "      <td>1514770740</td>\n",
       "      <td>13575.8920000</td>\n",
       "      <td>13566.4320000</td>\n",
       "      <td>-0.0696823</td>\n",
       "    </tr>\n",
       "    <tr>\n",
       "      <th>766</th>\n",
       "      <td>1514770800</td>\n",
       "      <td>13566.2900000</td>\n",
       "      <td>13550.7020000</td>\n",
       "      <td>-0.1149025</td>\n",
       "    </tr>\n",
       "  </tbody>\n",
       "</table>\n",
       "<p>100 rows × 4 columns</p>\n",
       "</div>"
      ],
      "text/plain": [
       "      timestamp          Open         Close  changePer\n",
       "2    1514764860 13835.1940000 13850.1760000  0.1082890\n",
       "10   1514764920 13835.0360000 13828.1020000 -0.0501191\n",
       "18   1514764980 13823.9000000 13801.3140000 -0.1633837\n",
       "26   1514765040 13802.5120000 13768.0400000 -0.2497516\n",
       "34   1514765100 13766.0000000 13724.9140000 -0.2984600\n",
       "..          ...           ...           ...        ...\n",
       "734  1514770560 13578.4520000 13583.1020000  0.0342454\n",
       "742  1514770620 13575.4300000 13573.4940000 -0.0142611\n",
       "750  1514770680 13570.3900000 13576.7240000  0.0466752\n",
       "758  1514770740 13575.8920000 13566.4320000 -0.0696823\n",
       "766  1514770800 13566.2900000 13550.7020000 -0.1149025\n",
       "\n",
       "[100 rows x 4 columns]"
      ]
     },
     "execution_count": 24,
     "metadata": {},
     "output_type": "execute_result"
    }
   ],
   "source": [
    "bitcoin[\"changePer\"] = (bitcoin[\"Close\"] / bitcoin[\"Open\"] - 1) * 100\n",
    "\n",
    "bitcoin.sort_values(\"timestamp\") \\\n",
    "       .head(100)[[\"timestamp\", \"Open\", \"Close\", \"changePer\"]]"
   ]
  }
 ],
 "metadata": {
  "kernelspec": {
   "display_name": "Python 3 (ipykernel)",
   "language": "python",
   "name": "python3"
  },
  "language_info": {
   "codemirror_mode": {
    "name": "ipython",
    "version": 3
   },
   "file_extension": ".py",
   "mimetype": "text/x-python",
   "name": "python",
   "nbconvert_exporter": "python",
   "pygments_lexer": "ipython3",
   "version": "3.9.9"
  }
 },
 "nbformat": 4,
 "nbformat_minor": 5
}
